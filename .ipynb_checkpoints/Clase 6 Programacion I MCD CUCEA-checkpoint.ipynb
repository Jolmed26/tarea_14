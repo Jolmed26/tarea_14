{
 "cells": [
  {
   "cell_type": "markdown",
   "id": "c960df8a",
   "metadata": {
    "heading_collapsed": true,
    "id": "c960df8a"
   },
   "source": [
    "# <font color =   #0000cc> <i> Clase 6 Programación I MCD"
   ]
  },
  {
   "cell_type": "markdown",
   "id": "81d28706",
   "metadata": {
    "heading_collapsed": true,
    "hidden": true,
    "id": "81d28706"
   },
   "source": [
    "## <font color= #0000FF> <i> Lanzamiento de Excepciones"
   ]
  },
  {
   "cell_type": "markdown",
   "id": "13a0f7de",
   "metadata": {
    "heading_collapsed": true,
    "hidden": true,
    "id": "13a0f7de"
   },
   "source": [
    "### <font color= #33691e> <i> Comando Raise"
   ]
  },
  {
   "cell_type": "markdown",
   "id": "da784901",
   "metadata": {
    "hidden": true,
    "id": "da784901"
   },
   "source": [
    "Hay ocasiones en las que el usuario ha cometido un error que afecta al desarrollo del resto del programa, por lo que lo que debemos hacer es lanzar una excepción para detener el programa.\n",
    "\n",
    "Esto lo podemos hacer con la palabra reservada \"raise\".\n",
    "\n",
    "Si queremos enviar un mensaje claro acerca del error que estamos detectando, podemos colocar una leyenda dentro de los paréntesis de la exception lanzada.\n",
    "\n"
   ]
  },
  {
   "cell_type": "markdown",
   "id": "b2731200",
   "metadata": {
    "hidden": true,
    "id": "b2731200"
   },
   "source": [
    "#### <b> <font color= #990000 > <i> Ejemplo 1"
   ]
  },
  {
   "cell_type": "markdown",
   "id": "f896d78b",
   "metadata": {
    "hidden": true,
    "id": "f896d78b"
   },
   "source": [
    "Vamos a suponer que queremos que la variable x siempre contenga un dato numérico, por lo que es necesario checar que efectivamente la variable x contenga un valor de este tipo.\n",
    "\n",
    "En caso de que sea de tipo caracter, vamos a desplegar en la pantalla que el tipo de dato es incorrecto.\n"
   ]
  },
  {
   "cell_type": "markdown",
   "id": "c91f7574",
   "metadata": {
    "hidden": true,
    "id": "c91f7574"
   },
   "source": [
    "<b> <i> Sin lanzar una excepción\n"
   ]
  },
  {
   "cell_type": "code",
   "execution_count": null,
   "id": "e76d8936",
   "metadata": {
    "hidden": true,
    "id": "e76d8936",
    "outputId": "bbece1b6-de25-4e48-b07a-73c6e6437016"
   },
   "outputs": [
    {
     "name": "stdout",
     "output_type": "stream",
     "text": [
      "El valor de x debe ser numérico\n",
      "Seguimos adelante con la ejecución del programa\n"
     ]
    }
   ],
   "source": [
    "\n",
    "x=\"Hola\"\n",
    "\n",
    "if not type(x) is int:\n",
    "   print(\"El valor de x debe ser numérico\")\n",
    "\n",
    "print(\"Seguimos adelante con la ejecución del programa\")"
   ]
  },
  {
   "cell_type": "markdown",
   "id": "2f14043b",
   "metadata": {
    "hidden": true,
    "id": "2f14043b"
   },
   "source": [
    "<b> <i> Lanzando una excepción\n"
   ]
  },
  {
   "cell_type": "code",
   "execution_count": null,
   "id": "0bbbbd33",
   "metadata": {
    "hidden": true,
    "id": "0bbbbd33",
    "outputId": "b9e50a84-2709-4185-c22d-aa342c5a78e7"
   },
   "outputs": [
    {
     "ename": "TypeError",
     "evalue": "El valor de x debe ser numérico",
     "output_type": "error",
     "traceback": [
      "\u001b[1;31m---------------------------------------------------------------------------\u001b[0m",
      "\u001b[1;31mTypeError\u001b[0m                                 Traceback (most recent call last)",
      "Input \u001b[1;32mIn [2]\u001b[0m, in \u001b[0;36m<cell line: 3>\u001b[1;34m()\u001b[0m\n\u001b[0;32m      1\u001b[0m x\u001b[38;5;241m=\u001b[39m\u001b[38;5;124m\"\u001b[39m\u001b[38;5;124mHola\u001b[39m\u001b[38;5;124m\"\u001b[39m\n\u001b[0;32m      3\u001b[0m \u001b[38;5;28;01mif\u001b[39;00m \u001b[38;5;129;01mnot\u001b[39;00m \u001b[38;5;28mtype\u001b[39m(x) \u001b[38;5;129;01mis\u001b[39;00m \u001b[38;5;28mint\u001b[39m: \n\u001b[1;32m----> 4\u001b[0m    \u001b[38;5;28;01mraise\u001b[39;00m \u001b[38;5;167;01mTypeError\u001b[39;00m(\u001b[38;5;124m\"\u001b[39m\u001b[38;5;124mEl valor de x debe ser numérico\u001b[39m\u001b[38;5;124m\"\u001b[39m)\n\u001b[0;32m      6\u001b[0m \u001b[38;5;28mprint\u001b[39m(\u001b[38;5;124m\"\u001b[39m\u001b[38;5;124mSeguimos adelante con la ejecución del programa\u001b[39m\u001b[38;5;124m\"\u001b[39m)\n",
      "\u001b[1;31mTypeError\u001b[0m: El valor de x debe ser numérico"
     ]
    }
   ],
   "source": [
    "\n",
    "x=\"Hola\"\n",
    "\n",
    "if not type(x) is int:\n",
    "   raise TypeError(\"El valor de x debe ser numérico\")\n",
    "\n",
    "print(\"Seguimos adelante con la ejecución del programa\")"
   ]
  },
  {
   "cell_type": "markdown",
   "id": "4745a71d",
   "metadata": {
    "hidden": true,
    "id": "4745a71d"
   },
   "source": [
    "Si no queremos que se detenga el programa ni que se desplieguen las lineas de código que provocaron el error, utilizamos la estructuras del **try y except** para \"envolverlo\"."
   ]
  },
  {
   "cell_type": "code",
   "execution_count": null,
   "id": "cf729e0b",
   "metadata": {
    "hidden": true,
    "id": "cf729e0b",
    "outputId": "0b8b3129-a038-4825-cded-424d0bcd3212"
   },
   "outputs": [
    {
     "name": "stdout",
     "output_type": "stream",
     "text": [
      "El valor de x debe ser numérico\n",
      "Seguimos adelante con la ejecución del programa\n"
     ]
    }
   ],
   "source": [
    "try:\n",
    "\n",
    "    x=\"Hola\"\n",
    "\n",
    "    if not type(x) is int:\n",
    "        raise TypeError(\"El valor de x debe ser numérico\")\n",
    "\n",
    "except TypeError as e:\n",
    "    print(e)\n",
    "else:\n",
    "    print(\"El tipo de valor de x es correcto\")\n",
    "\n",
    "print(\"Seguimos adelante con la ejecución del programa\")"
   ]
  },
  {
   "cell_type": "markdown",
   "id": "577ad092",
   "metadata": {
    "hidden": true,
    "id": "577ad092"
   },
   "source": [
    "#### <b> <font color= #990000 > <i> Ejemplo 2"
   ]
  },
  {
   "cell_type": "markdown",
   "id": "1e8728a9",
   "metadata": {
    "hidden": true,
    "id": "1e8728a9"
   },
   "source": [
    "Vamos a suponer que queremos que el usuario ingrese la fecha en la que nació.\n",
    "\n",
    "Esa fecha definitivamente debe ser anterior a la fecha actual.\n",
    "\n",
    "Debido a que este dato es muy importante para llevar a cabo el resto del programa, lanzaremos una excepción para que el programa se detenga."
   ]
  },
  {
   "cell_type": "markdown",
   "id": "4df646ad",
   "metadata": {
    "hidden": true,
    "id": "4df646ad"
   },
   "source": [
    "<b> <i> Sin lanzar una excepción\n"
   ]
  },
  {
   "cell_type": "code",
   "execution_count": null,
   "id": "bd5c7810",
   "metadata": {
    "hidden": true,
    "id": "bd5c7810",
    "outputId": "a14c86c1-0d0c-44ed-b190-ec7eb70a1b3c"
   },
   "outputs": [
    {
     "name": "stdout",
     "output_type": "stream",
     "text": [
      "Ingresa tu fecha de nacimiento utilizando el formato yyyy-mm-dd: 2023-10-19\n",
      "La fecha proporcionada debe ser anterior al dia de hoy\n",
      "Seguimos adelante con la ejecución del programa\n"
     ]
    }
   ],
   "source": [
    "from datetime import datetime\n",
    "\n",
    "Fecha_de_hoy = datetime.now()\n",
    "\n",
    "fecha_nacim = input(\"Ingresa tu fecha de nacimiento utilizando el formato yyyy-mm-dd: \")\n",
    "Fecha_proporcionada = datetime.strptime(fecha_nacim, '%Y-%m-%d') #datetime.strptime convierte un string en fecha\n",
    "\n",
    "\n",
    "if (Fecha_proporcionada.date() >= Fecha_de_hoy.date()):\n",
    "    print(\"La fecha proporcionada debe ser anterior al dia de hoy\")\n",
    "\n",
    "else:\n",
    "    print(\"Muy bien, puedes seguir adelante con el programa\")\n",
    "\n",
    "\n",
    "print(\"Seguimos adelante con la ejecución del programa\")"
   ]
  },
  {
   "cell_type": "markdown",
   "id": "1b70bd90",
   "metadata": {
    "hidden": true,
    "id": "1b70bd90"
   },
   "source": [
    "<b> <i> Lanzando una excepción\n"
   ]
  },
  {
   "cell_type": "code",
   "execution_count": null,
   "id": "10621196",
   "metadata": {
    "hidden": true,
    "id": "10621196",
    "outputId": "9de04966-219c-453a-8f18-b9421fcf36a7"
   },
   "outputs": [
    {
     "name": "stdout",
     "output_type": "stream",
     "text": [
      "Ingresa tu fecha de nacimiento utilizando el formato yyyy-mm-dd: 2023-10-10\n"
     ]
    },
    {
     "ename": "Exception",
     "evalue": "La fecha proporcionada debe ser anterior al dia de hoy",
     "output_type": "error",
     "traceback": [
      "\u001b[1;31m---------------------------------------------------------------------------\u001b[0m",
      "\u001b[1;31mException\u001b[0m                                 Traceback (most recent call last)",
      "Input \u001b[1;32mIn [6]\u001b[0m, in \u001b[0;36m<cell line: 9>\u001b[1;34m()\u001b[0m\n\u001b[0;32m      6\u001b[0m Fecha_proporcionada \u001b[38;5;241m=\u001b[39m datetime\u001b[38;5;241m.\u001b[39mstrptime(fecha_nacim, \u001b[38;5;124m'\u001b[39m\u001b[38;5;124m%\u001b[39m\u001b[38;5;124mY-\u001b[39m\u001b[38;5;124m%\u001b[39m\u001b[38;5;124mm-\u001b[39m\u001b[38;5;132;01m%d\u001b[39;00m\u001b[38;5;124m'\u001b[39m) \u001b[38;5;66;03m#datetime.strptime convierte un string en fecha\u001b[39;00m\n\u001b[0;32m      9\u001b[0m \u001b[38;5;28;01mif\u001b[39;00m (Fecha_proporcionada\u001b[38;5;241m.\u001b[39mdate() \u001b[38;5;241m>\u001b[39m\u001b[38;5;241m=\u001b[39m Fecha_de_hoy\u001b[38;5;241m.\u001b[39mdate()):\n\u001b[1;32m---> 10\u001b[0m     \u001b[38;5;28;01mraise\u001b[39;00m \u001b[38;5;167;01mException\u001b[39;00m(\u001b[38;5;124m\"\u001b[39m\u001b[38;5;124mLa fecha proporcionada debe ser anterior al dia de hoy\u001b[39m\u001b[38;5;124m\"\u001b[39m)\n\u001b[0;32m     12\u001b[0m \u001b[38;5;28;01melse\u001b[39;00m: \n\u001b[0;32m     13\u001b[0m     \u001b[38;5;28mprint\u001b[39m(\u001b[38;5;124m\"\u001b[39m\u001b[38;5;124mMuy bien, puedes seguir adelante con el programa\u001b[39m\u001b[38;5;124m\"\u001b[39m)\n",
      "\u001b[1;31mException\u001b[0m: La fecha proporcionada debe ser anterior al dia de hoy"
     ]
    }
   ],
   "source": [
    "from datetime import datetime\n",
    "\n",
    "Fecha_de_hoy = datetime.now()\n",
    "\n",
    "fecha_nacim = input(\"Ingresa tu fecha de nacimiento utilizando el formato yyyy-mm-dd: \")\n",
    "Fecha_proporcionada = datetime.strptime(fecha_nacim, '%Y-%m-%d') #datetime.strptime convierte un string en fecha\n",
    "\n",
    "\n",
    "if (Fecha_proporcionada.date() >= Fecha_de_hoy.date()):\n",
    "    raise Exception(\"La fecha proporcionada debe ser anterior al dia de hoy\")\n",
    "\n",
    "else:\n",
    "    print(\"Muy bien, puedes seguir adelante con el programa\")\n",
    "\n",
    "\n",
    "print(\"Seguimos adelante con la ejecución del programa\")"
   ]
  },
  {
   "cell_type": "markdown",
   "id": "96b66e3a",
   "metadata": {
    "hidden": true,
    "id": "96b66e3a"
   },
   "source": [
    "<b> <i> <font color=  #FF6600 > Ejercicio 1"
   ]
  },
  {
   "cell_type": "markdown",
   "id": "b84ea5dc",
   "metadata": {
    "hidden": true,
    "id": "b84ea5dc"
   },
   "source": [
    "Crea una lista de 10 elementos que contenga tanto valores numéricos como cadenas de caracteres.\n",
    "\n",
    "Recorre la lista multiplicando cada elemento por el número 2 y ve imprimiendo el resultado en la pantalla.\n",
    "\n",
    "En caso de que el elemento sea de tipo caracter, lanza una excepción TypeError e imprime \"El elemento no es de tipo numérico\" y que se detenga la ejecución del programa."
   ]
  },
  {
   "cell_type": "markdown",
   "id": "7dd13415",
   "metadata": {
    "hidden": true,
    "id": "7dd13415"
   },
   "source": [
    "<b> <i> <font color=  #FF6600 > Ejercicio 2"
   ]
  },
  {
   "cell_type": "markdown",
   "id": "4687438e",
   "metadata": {
    "hidden": true,
    "id": "4687438e"
   },
   "source": [
    "Modifica el código del ejercicio 1 de manera que se muestre la excepción sin desplegar las lineas de código que contienen el error, y que además, imprima la leyenda \"Fin del proceso\"."
   ]
  },
  {
   "cell_type": "markdown",
   "id": "c28b6320",
   "metadata": {
    "hidden": true,
    "id": "c28b6320"
   },
   "source": []
  },
  {
   "cell_type": "markdown",
   "id": "51da2297",
   "metadata": {
    "heading_collapsed": true,
    "hidden": true,
    "id": "51da2297"
   },
   "source": [
    "## <font color= #0000FF> <i> Polimorfismo (Programación Orientada a Objetos)"
   ]
  },
  {
   "cell_type": "markdown",
   "id": "f3867ccc",
   "metadata": {
    "hidden": true,
    "id": "f3867ccc"
   },
   "source": [
    "Es posible utilizar un método que tiene el mismo nombre que otro que está contenido en otra clase y que lleva a cabo funciones diferentes dependiendo del contexto."
   ]
  },
  {
   "cell_type": "markdown",
   "id": "316a9963",
   "metadata": {
    "heading_collapsed": true,
    "hidden": true,
    "id": "316a9963"
   },
   "source": [
    "#### <b> <font color= #990000 > <i> Ejemplo"
   ]
  },
  {
   "cell_type": "markdown",
   "id": "3e42c173",
   "metadata": {
    "hidden": true,
    "id": "3e42c173"
   },
   "source": [
    "<b> Creamos una Superclase"
   ]
  },
  {
   "cell_type": "code",
   "execution_count": null,
   "id": "7ef58ffe",
   "metadata": {
    "hidden": true,
    "id": "7ef58ffe"
   },
   "outputs": [],
   "source": [
    "class Animales():\n",
    "\n",
    "    def __init__(self, peso, color, tamaño): #Aquí van las propiedades del estado inicial. Este es un constructor\n",
    "\n",
    "        #Propiedades\n",
    "        self.peso=peso\n",
    "        self.color=color\n",
    "        self.tamaño=tamaño\n",
    "\n",
    "    #Comportamientos\n",
    "\n",
    "    #Metodo dormir\n",
    "    def dormir(self, dormir):\n",
    "        self.dormido = dormir #Se coloca self y un punto antes del estado \"dormido\"\n",
    "\n",
    "        if(self.dormido):\n",
    "            return print(f\"{self.nombre} está dormid@\")\n",
    "        else:\n",
    "            return print(f\"{self.nombre} está despiert@\")\n"
   ]
  },
  {
   "cell_type": "markdown",
   "id": "dd1eac4d",
   "metadata": {
    "hidden": true,
    "id": "dd1eac4d"
   },
   "source": [
    "<b> Creamos Subclases con un método llamado nacimiento"
   ]
  },
  {
   "cell_type": "code",
   "execution_count": null,
   "id": "c125cb2a",
   "metadata": {
    "hidden": true,
    "id": "c125cb2a"
   },
   "outputs": [],
   "source": [
    "class Viviparo(Animales):\n",
    "\n",
    "    #Metodo nacimiento\n",
    "    def nacimiento(self):\n",
    "        print(\"me desarrollo en el vientre de mi madre\")\n",
    "\n",
    "\n",
    "class Oviparo(Animales):\n",
    "\n",
    "    #Metodo nacimiento\n",
    "    def nacimiento(self):\n",
    "        print(\"me desarrollo en un huevo\")\n",
    "\n",
    "class Ovoviviparo(Animales):\n",
    "\n",
    "    #Metodo nacimiento\n",
    "    def nacimiento(self):\n",
    "        print(\"comienzo a desarrollarme en el vientre de mi madre y termino mi desarrollo fuera del mismo\")\n"
   ]
  },
  {
   "cell_type": "markdown",
   "id": "823f6f16",
   "metadata": {
    "hidden": true,
    "id": "823f6f16"
   },
   "source": [
    "<b> Creamos una función que llame al método nacimiento para todas las clases"
   ]
  },
  {
   "cell_type": "code",
   "execution_count": null,
   "id": "66a6a0fe",
   "metadata": {
    "hidden": true,
    "id": "66a6a0fe"
   },
   "outputs": [],
   "source": [
    "def nacimientos_varios(animal):\n",
    "    animal.nacimiento()"
   ]
  },
  {
   "cell_type": "markdown",
   "id": "90ff30b8",
   "metadata": {
    "hidden": true,
    "id": "90ff30b8"
   },
   "source": [
    "<b> Creamos objetos pertenecientes a la clase animales que tengan diferente forma de nacimiento, para comprender el término <font color= #990000 > <i> polimorfismo"
   ]
  },
  {
   "cell_type": "code",
   "execution_count": null,
   "id": "eeacead8",
   "metadata": {
    "hidden": true,
    "id": "eeacead8"
   },
   "outputs": [],
   "source": [
    "changuito = Viviparo(3, \"negro\", 50)\n",
    "\n",
    "tortuga = Oviparo(0.5, \"café\", 10)\n",
    "\n",
    "canguro = Ovoviviparo(37,\"beige\", 95)"
   ]
  },
  {
   "cell_type": "markdown",
   "id": "b35b0b60",
   "metadata": {
    "hidden": true,
    "id": "b35b0b60"
   },
   "source": [
    "<b> Pedimos que nos muestre el tipo de nacimiento de cada uno de los objetos"
   ]
  },
  {
   "cell_type": "code",
   "execution_count": null,
   "id": "0bda4d69",
   "metadata": {
    "hidden": true,
    "id": "0bda4d69",
    "outputId": "5bd9da7d-f43f-41ed-902e-c1543d67247e"
   },
   "outputs": [
    {
     "name": "stdout",
     "output_type": "stream",
     "text": [
      "Yo soy un changuito, peso 3 kilos, soy de color negro, mido 50 centímetros y\n",
      "me desarrollo en un huevo\n"
     ]
    }
   ],
   "source": [
    "peso=changuito.peso\n",
    "color=changuito.color\n",
    "tamaño=changuito.tamaño\n",
    "\n",
    "print(f\"Yo soy un changuito, peso {peso} kilos, soy de color {color}, mido {tamaño} centímetros y\")\n",
    "nacimientos_varios(changuito)"
   ]
  },
  {
   "cell_type": "code",
   "execution_count": null,
   "id": "06830006",
   "metadata": {
    "hidden": true,
    "id": "06830006",
    "outputId": "f85bcadb-0b8f-40ec-9285-62d364a6ae9d"
   },
   "outputs": [
    {
     "name": "stdout",
     "output_type": "stream",
     "text": [
      "Yo soy una tortuga, peso 0.5 kilos, soy de color café, mido 10 centímetros y\n",
      "me desarrollo en un huevo\n"
     ]
    }
   ],
   "source": [
    "peso=tortuga.peso\n",
    "color=tortuga.color\n",
    "tamaño=tortuga.tamaño\n",
    "\n",
    "print(f\"Yo soy una tortuga, peso {peso} kilos, soy de color {color}, mido {tamaño} centímetros y\")\n",
    "nacimientos_varios(tortuga)"
   ]
  },
  {
   "cell_type": "code",
   "execution_count": null,
   "id": "3b82fd40",
   "metadata": {
    "hidden": true,
    "id": "3b82fd40",
    "outputId": "9b216e69-dd57-4913-bb0f-b6bfc54d29d1"
   },
   "outputs": [
    {
     "name": "stdout",
     "output_type": "stream",
     "text": [
      "Yo soy un canguro, peso 37 kilos, soy de color beige, mido 95 centímetros y\n",
      "comienzo a desarrollarme en el vientre de mi madre y termino mi desarrollo fuera del mismo\n"
     ]
    }
   ],
   "source": [
    "peso=canguro.peso\n",
    "color=canguro.color\n",
    "tamaño=canguro.tamaño\n",
    "\n",
    "print(f\"Yo soy un canguro, peso {peso} kilos, soy de color {color}, mido {tamaño} centímetros y\")\n",
    "\n",
    "nacimientos_varios(canguro)"
   ]
  },
  {
   "cell_type": "markdown",
   "id": "92614f31",
   "metadata": {
    "hidden": true,
    "id": "92614f31"
   },
   "source": []
  },
  {
   "cell_type": "markdown",
   "id": "dfdba8cc",
   "metadata": {
    "heading_collapsed": true,
    "hidden": true,
    "id": "dfdba8cc"
   },
   "source": [
    "## <font color= #0000FF> <i> Conjuntos en Python"
   ]
  },
  {
   "cell_type": "markdown",
   "id": "7fa25331",
   "metadata": {
    "heading_collapsed": true,
    "hidden": true,
    "id": "7fa25331"
   },
   "source": [
    "### <font color= #33691e> <i> Formas de Creación de conjuntos"
   ]
  },
  {
   "cell_type": "markdown",
   "id": "8b325f20",
   "metadata": {
    "heading_collapsed": true,
    "hidden": true,
    "id": "8b325f20"
   },
   "source": [
    "#### <b> <font color= #990000 > <i> Utilizando llaves"
   ]
  },
  {
   "cell_type": "code",
   "execution_count": null,
   "id": "62345ef6",
   "metadata": {
    "hidden": true,
    "id": "62345ef6",
    "outputId": "49fc02e0-8693-4931-de21-5bbfb8604e26"
   },
   "outputs": [
    {
     "name": "stdout",
     "output_type": "stream",
     "text": [
      "{1, 2, 4}\n"
     ]
    },
    {
     "data": {
      "text/plain": [
       "set"
      ]
     },
     "execution_count": 17,
     "metadata": {},
     "output_type": "execute_result"
    }
   ],
   "source": [
    "c1={1,2,4}\n",
    "\n",
    "print(c1)\n",
    "\n",
    "type(c1)"
   ]
  },
  {
   "cell_type": "markdown",
   "id": "9420341e",
   "metadata": {
    "heading_collapsed": true,
    "hidden": true,
    "id": "9420341e"
   },
   "source": [
    "#### <b> <font color= #990000 > <i> Utilizando el comando set y una lista"
   ]
  },
  {
   "cell_type": "code",
   "execution_count": null,
   "id": "991ad718",
   "metadata": {
    "hidden": true,
    "id": "991ad718",
    "outputId": "0b0c0aef-2715-4c99-8b40-c8fd96caaeb8"
   },
   "outputs": [
    {
     "name": "stdout",
     "output_type": "stream",
     "text": [
      "{1, 5, 'Rocio'}\n"
     ]
    },
    {
     "data": {
      "text/plain": [
       "set"
      ]
     },
     "execution_count": 24,
     "metadata": {},
     "output_type": "execute_result"
    }
   ],
   "source": [
    "c2=set([1,\"Rocio\",5])\n",
    "\n",
    "print(c2)\n",
    "\n",
    "type(c2)"
   ]
  },
  {
   "cell_type": "markdown",
   "id": "da20c6c3",
   "metadata": {
    "heading_collapsed": true,
    "hidden": true,
    "id": "da20c6c3"
   },
   "source": [
    "#### <b> <font color= #990000 > <i> Utilizando el constructor set() para hacer un conjunto e ir agregando elementos"
   ]
  },
  {
   "cell_type": "code",
   "execution_count": null,
   "id": "17d6e055",
   "metadata": {
    "hidden": true,
    "id": "17d6e055",
    "outputId": "a6d24cb6-43e9-4d76-9fa7-67a14ba37f81"
   },
   "outputs": [
    {
     "name": "stdout",
     "output_type": "stream",
     "text": [
      "set()\n"
     ]
    },
    {
     "data": {
      "text/plain": [
       "set"
      ]
     },
     "execution_count": 27,
     "metadata": {},
     "output_type": "execute_result"
    }
   ],
   "source": [
    "c3=set()\n",
    "\n",
    "print(c3)\n",
    "\n",
    "type(c3)\n"
   ]
  },
  {
   "cell_type": "code",
   "execution_count": null,
   "id": "b283fa04",
   "metadata": {
    "hidden": true,
    "id": "b283fa04",
    "outputId": "649e441f-60ac-4d01-fc15-a77be05e9e90"
   },
   "outputs": [
    {
     "data": {
      "text/plain": [
       "{0, 5}"
      ]
     },
     "execution_count": 28,
     "metadata": {},
     "output_type": "execute_result"
    }
   ],
   "source": [
    "c3=set()\n",
    "\n",
    "c3.add(0)\n",
    "c3.add(5)\n",
    "\n",
    "c3\n"
   ]
  },
  {
   "cell_type": "markdown",
   "id": "fa89f0cc",
   "metadata": {
    "heading_collapsed": true,
    "hidden": true,
    "id": "fa89f0cc"
   },
   "source": [
    "### <font color= #33691e> <i> Quitando elementos a un conjunto"
   ]
  },
  {
   "cell_type": "code",
   "execution_count": null,
   "id": "c4d9d158",
   "metadata": {
    "hidden": true,
    "id": "c4d9d158",
    "outputId": "af421ee4-ca35-4fb2-f3a5-f5bb51536c1f"
   },
   "outputs": [
    {
     "data": {
      "text/plain": [
       "{0}"
      ]
     },
     "execution_count": 29,
     "metadata": {},
     "output_type": "execute_result"
    }
   ],
   "source": [
    "c3.discard(5)\n",
    "\n",
    "c3"
   ]
  },
  {
   "cell_type": "markdown",
   "id": "889bce6e",
   "metadata": {
    "heading_collapsed": true,
    "hidden": true,
    "id": "889bce6e"
   },
   "source": [
    "### <font color= #33691e> <i> Copiando un conjunto"
   ]
  },
  {
   "cell_type": "markdown",
   "id": "7e47ec39",
   "metadata": {
    "hidden": true,
    "id": "7e47ec39"
   },
   "source": [
    "<b> Método incorrecto"
   ]
  },
  {
   "cell_type": "code",
   "execution_count": null,
   "id": "d21f04c7",
   "metadata": {
    "hidden": true,
    "id": "d21f04c7",
    "outputId": "28f85acb-5810-41d2-8688-3cf10bc996f5"
   },
   "outputs": [
    {
     "data": {
      "text/plain": [
       "{0}"
      ]
     },
     "execution_count": 30,
     "metadata": {},
     "output_type": "execute_result"
    }
   ],
   "source": [
    "c4=c3   #Esto es incorrecto\n",
    "c4"
   ]
  },
  {
   "cell_type": "code",
   "execution_count": null,
   "id": "21fe128a",
   "metadata": {
    "hidden": true,
    "id": "21fe128a",
    "outputId": "8ba11fbb-2119-422a-f072-31ee3f4204ff"
   },
   "outputs": [
    {
     "data": {
      "text/plain": [
       "{0, 7}"
      ]
     },
     "execution_count": 31,
     "metadata": {},
     "output_type": "execute_result"
    }
   ],
   "source": [
    "c4.add(7)\n",
    "c4"
   ]
  },
  {
   "cell_type": "markdown",
   "id": "5cceb24e",
   "metadata": {
    "hidden": true,
    "id": "5cceb24e"
   },
   "source": [
    "El conjunto c3 también se altera, debido a que tanto c4 como c3 están haciendo referencia a la misma dirección de memoria."
   ]
  },
  {
   "cell_type": "code",
   "execution_count": null,
   "id": "b0029fb3",
   "metadata": {
    "hidden": true,
    "id": "b0029fb3",
    "outputId": "2813db63-8a23-41b4-c711-7ba1be5dd5b3"
   },
   "outputs": [
    {
     "data": {
      "text/plain": [
       "{0, 7}"
      ]
     },
     "execution_count": 176,
     "metadata": {},
     "output_type": "execute_result"
    }
   ],
   "source": [
    "c3"
   ]
  },
  {
   "cell_type": "markdown",
   "id": "78821cff",
   "metadata": {
    "hidden": true,
    "id": "78821cff"
   },
   "source": [
    "<b> Método correcto"
   ]
  },
  {
   "cell_type": "code",
   "execution_count": null,
   "id": "e673a979",
   "metadata": {
    "hidden": true,
    "id": "e673a979",
    "outputId": "70e0811f-b417-4e49-83aa-67530e6f0243"
   },
   "outputs": [
    {
     "data": {
      "text/plain": [
       "{0, 7}"
      ]
     },
     "execution_count": 32,
     "metadata": {},
     "output_type": "execute_result"
    }
   ],
   "source": [
    "c4=c3.copy()\n",
    "c4"
   ]
  },
  {
   "cell_type": "code",
   "execution_count": null,
   "id": "09138eb1",
   "metadata": {
    "hidden": true,
    "id": "09138eb1",
    "outputId": "bdd7109d-c169-4dc9-b599-103938bedc31"
   },
   "outputs": [
    {
     "data": {
      "text/plain": [
       "{0, 7, 9}"
      ]
     },
     "execution_count": 33,
     "metadata": {},
     "output_type": "execute_result"
    }
   ],
   "source": [
    "c4.add(9)\n",
    "c4"
   ]
  },
  {
   "cell_type": "code",
   "execution_count": null,
   "id": "82a10941",
   "metadata": {
    "hidden": true,
    "id": "82a10941",
    "outputId": "445a67fd-c1e5-452c-b4ff-41ea7f62298e"
   },
   "outputs": [
    {
     "data": {
      "text/plain": [
       "{0, 7}"
      ]
     },
     "execution_count": 34,
     "metadata": {},
     "output_type": "execute_result"
    }
   ],
   "source": [
    "c3"
   ]
  },
  {
   "cell_type": "markdown",
   "id": "28ccf07a",
   "metadata": {
    "heading_collapsed": true,
    "hidden": true,
    "id": "28ccf07a"
   },
   "source": [
    "### <font color= #33691e> <i> Eliminando todos los elementos de un conjunto"
   ]
  },
  {
   "cell_type": "code",
   "execution_count": null,
   "id": "9017aa9e",
   "metadata": {
    "hidden": true,
    "id": "9017aa9e",
    "outputId": "fc7ef136-279f-4613-eadf-e5846b4a57ce"
   },
   "outputs": [
    {
     "data": {
      "text/plain": [
       "set()"
      ]
     },
     "execution_count": 35,
     "metadata": {},
     "output_type": "execute_result"
    }
   ],
   "source": [
    "c3.clear()\n",
    "c3"
   ]
  },
  {
   "cell_type": "markdown",
   "id": "2b1e22ab",
   "metadata": {
    "heading_collapsed": true,
    "hidden": true,
    "id": "2b1e22ab"
   },
   "source": [
    "### <font color= #33691e> <i> Para saber si dos conjuntos son disjuntos"
   ]
  },
  {
   "cell_type": "code",
   "execution_count": null,
   "id": "c084543c",
   "metadata": {
    "hidden": true,
    "id": "c084543c",
    "outputId": "ea82c3f9-e9a9-45c5-feb7-376c967d99c3"
   },
   "outputs": [
    {
     "data": {
      "text/plain": [
       "True"
      ]
     },
     "execution_count": 44,
     "metadata": {},
     "output_type": "execute_result"
    }
   ],
   "source": [
    "A = set(['Alberto', 'Berenice', 'Hugo', 'Zoe'])\n",
    "B = set(['Carmen', 'Alberto', 'Héctor'])\n",
    "C = set(['Cynthia', 'Marisela', 'Lucía', 'Alejandro'])\n",
    "\n",
    "A.isdisjoint(C)"
   ]
  },
  {
   "cell_type": "code",
   "execution_count": null,
   "id": "72eac21d",
   "metadata": {
    "hidden": true,
    "id": "72eac21d",
    "outputId": "fdb7edce-1ff4-4b68-ad6c-645914cf6296"
   },
   "outputs": [
    {
     "data": {
      "text/plain": [
       "False"
      ]
     },
     "execution_count": 45,
     "metadata": {},
     "output_type": "execute_result"
    }
   ],
   "source": [
    "A.isdisjoint(B) # tienen en común Alberto"
   ]
  },
  {
   "cell_type": "markdown",
   "id": "b19b5ef7",
   "metadata": {
    "heading_collapsed": true,
    "hidden": true,
    "id": "b19b5ef7"
   },
   "source": [
    "### <font color= #33691e> <i> Intersección de conjuntos"
   ]
  },
  {
   "cell_type": "code",
   "execution_count": null,
   "id": "9d5ca22a",
   "metadata": {
    "hidden": true,
    "id": "9d5ca22a",
    "outputId": "4f442b1a-a313-403c-8085-fca6b08cb163"
   },
   "outputs": [
    {
     "data": {
      "text/plain": [
       "{'Alberto'}"
      ]
     },
     "execution_count": 208,
     "metadata": {},
     "output_type": "execute_result"
    }
   ],
   "source": [
    "A.intersection(B)"
   ]
  },
  {
   "cell_type": "code",
   "execution_count": null,
   "id": "ff1a7d2e",
   "metadata": {
    "hidden": true,
    "id": "ff1a7d2e",
    "outputId": "38253234-dd8c-475f-d8a3-8deb7874fe99"
   },
   "outputs": [
    {
     "data": {
      "text/plain": [
       "{'Berenice', 'Carmen', 'Hugo', 'Héctor', 'Zoe'}"
      ]
     },
     "execution_count": 213,
     "metadata": {},
     "output_type": "execute_result"
    }
   ],
   "source": [
    "A.symmetric_difference(B)"
   ]
  },
  {
   "cell_type": "markdown",
   "id": "c1e0946b",
   "metadata": {
    "heading_collapsed": true,
    "hidden": true,
    "id": "c1e0946b"
   },
   "source": [
    "### <font color= #33691e> <i> Para saber si un conjunto es subconjunto de otro"
   ]
  },
  {
   "cell_type": "code",
   "execution_count": null,
   "id": "5ae5b6ae",
   "metadata": {
    "hidden": true,
    "id": "5ae5b6ae",
    "outputId": "76fd3429-f4dd-411c-d64e-d54e211035ec"
   },
   "outputs": [
    {
     "data": {
      "text/plain": [
       "True"
      ]
     },
     "execution_count": 214,
     "metadata": {},
     "output_type": "execute_result"
    }
   ],
   "source": [
    "D = set(['Alberto', 'Carmen'])\n",
    "D.issubset(B)"
   ]
  },
  {
   "cell_type": "code",
   "execution_count": null,
   "id": "3687a4ca",
   "metadata": {
    "hidden": true,
    "id": "3687a4ca",
    "outputId": "7c90c83a-fd11-4829-f840-781feb8b85df"
   },
   "outputs": [
    {
     "data": {
      "text/plain": [
       "False"
      ]
     },
     "execution_count": 215,
     "metadata": {},
     "output_type": "execute_result"
    }
   ],
   "source": [
    "D.issubset(A)"
   ]
  },
  {
   "cell_type": "code",
   "execution_count": null,
   "id": "c0c54c1e",
   "metadata": {
    "hidden": true,
    "id": "c0c54c1e",
    "outputId": "79446bde-0005-496c-ff19-090fd5065676"
   },
   "outputs": [
    {
     "data": {
      "text/plain": [
       "True"
      ]
     },
     "execution_count": 216,
     "metadata": {},
     "output_type": "execute_result"
    }
   ],
   "source": [
    "B.issuperset(D)"
   ]
  },
  {
   "cell_type": "markdown",
   "id": "9800224f",
   "metadata": {
    "heading_collapsed": true,
    "hidden": true,
    "id": "9800224f"
   },
   "source": [
    "### <font color= #33691e> <i> Unión de conjuntos"
   ]
  },
  {
   "cell_type": "code",
   "execution_count": null,
   "id": "2328dd69",
   "metadata": {
    "hidden": true,
    "id": "2328dd69",
    "outputId": "d610920c-fe5d-41b4-da15-caa68709f573"
   },
   "outputs": [
    {
     "data": {
      "text/plain": [
       "{'Alberto', 'Berenice', 'Carmen', 'Hugo', 'Héctor', 'Zoe'}"
      ]
     },
     "execution_count": 217,
     "metadata": {},
     "output_type": "execute_result"
    }
   ],
   "source": [
    "A.union(B)"
   ]
  },
  {
   "cell_type": "code",
   "execution_count": null,
   "id": "012e469e",
   "metadata": {
    "hidden": true,
    "id": "012e469e",
    "outputId": "6a5811d7-cc1f-4849-c36b-5b6e77c0e01b"
   },
   "outputs": [
    {
     "data": {
      "text/plain": [
       "{'Alberto', 'Berenice', 'Hugo', 'Zoe'}"
      ]
     },
     "execution_count": 218,
     "metadata": {},
     "output_type": "execute_result"
    }
   ],
   "source": [
    "A"
   ]
  },
  {
   "cell_type": "code",
   "execution_count": null,
   "id": "d3b1a204",
   "metadata": {
    "hidden": true,
    "id": "d3b1a204",
    "outputId": "b0383148-38ca-4c0f-ec5d-3c12d7415c2f"
   },
   "outputs": [
    {
     "data": {
      "text/plain": [
       "{'Alberto', 'Carmen', 'Héctor'}"
      ]
     },
     "execution_count": 219,
     "metadata": {},
     "output_type": "execute_result"
    }
   ],
   "source": [
    "B"
   ]
  },
  {
   "cell_type": "code",
   "execution_count": null,
   "id": "204609eb",
   "metadata": {
    "hidden": true,
    "id": "204609eb",
    "outputId": "e379e1f6-41a4-4e68-de75-f89d31f37777"
   },
   "outputs": [
    {
     "data": {
      "text/plain": [
       "{'Alberto', 'Berenice', 'Carmen', 'Hugo', 'Héctor', 'Zoe'}"
      ]
     },
     "execution_count": 220,
     "metadata": {},
     "output_type": "execute_result"
    }
   ],
   "source": [
    "A.update(B) #Update sí altera al conjunto A\n",
    "A"
   ]
  },
  {
   "cell_type": "code",
   "execution_count": null,
   "id": "dfb09e84",
   "metadata": {
    "hidden": true,
    "id": "dfb09e84",
    "outputId": "081fb6da-6322-452b-8e49-2218d7ce4e10"
   },
   "outputs": [
    {
     "data": {
      "text/plain": [
       "{'Alberto', 'Carmen', 'Héctor'}"
      ]
     },
     "execution_count": 221,
     "metadata": {},
     "output_type": "execute_result"
    }
   ],
   "source": [
    "B"
   ]
  },
  {
   "cell_type": "markdown",
   "id": "1e7ac937",
   "metadata": {
    "heading_collapsed": true,
    "hidden": true,
    "id": "1e7ac937"
   },
   "source": [
    "### <font color= #33691e> <i> Obteniendo los elementos diferentes entre conjuntos"
   ]
  },
  {
   "cell_type": "code",
   "execution_count": null,
   "id": "bbde75d1",
   "metadata": {
    "hidden": true,
    "id": "bbde75d1",
    "outputId": "8c8d3638-9d48-4cc8-9d1c-da871d6de843"
   },
   "outputs": [
    {
     "data": {
      "text/plain": [
       "{'Héctor'}"
      ]
     },
     "execution_count": 223,
     "metadata": {},
     "output_type": "execute_result"
    }
   ],
   "source": [
    "B.difference(D)"
   ]
  },
  {
   "cell_type": "markdown",
   "id": "21c610b6",
   "metadata": {
    "id": "21c610b6"
   },
   "source": [
    "**En resumen:**\n",
    "\n",
    "-Las **listas** son una colección ordenada y modificable. Permite miembros duplicados.\n",
    "\n",
    "-Las **tuplas** son una colección ordenada e inmutable. Permite miembros duplicados.\n",
    "\n",
    "-Los **conjuntos** son una colección desordenada, inmutable y no indexada. No hay miembros duplicados.\n",
    "\n",
    "-Los **diccionarios** son una colección ordenada y modificable. No hay miembros duplicados."
   ]
  },
  {
   "cell_type": "markdown",
   "id": "3e9a6754",
   "metadata": {
    "hidden": true,
    "id": "3e9a6754"
   },
   "source": [
    "<b> <i> <font color=  #FF6600 > Ejercicio 3"
   ]
  },
  {
   "cell_type": "markdown",
   "id": "c344e9f6",
   "metadata": {
    "hidden": true,
    "id": "c344e9f6"
   },
   "source": [
    "1.- Crea tres conjuntos disjuntos\n",
    "\n",
    "2.- Copia el primer conjunto en un conjunto nuevo llamado \"copia_del_primero\"\n",
    "\n",
    "3.- Une el primer conjunto con el segundo conjunto de manera que el primero contenga la totalidad de los elementos\n",
    "\n",
    "4.- Elimina uno de los elementos del segundo conjunto\n",
    "\n",
    "5.- Encuentra los elementos comunes entre el primer y el segundo conjunto\n",
    "\n",
    "6.- Elimina todos los elementos del tercer conjunto"
   ]
  },
  {
   "cell_type": "markdown",
   "id": "9e4c58bf",
   "metadata": {
    "heading_collapsed": true,
    "hidden": true,
    "id": "9e4c58bf"
   },
   "source": [
    "## <font color= #0000FF> <i> Tarea"
   ]
  },
  {
   "cell_type": "markdown",
   "id": "0d1c4aff",
   "metadata": {
    "hidden": true,
    "id": "0d1c4aff"
   },
   "source": [
    "a) Crear una superclase de vehículos conteniendo propiedades comunes a los vehículos (Ejemplo: Marca, Modelo, Peso, etc)  <b> <font color= #0000FF> <i> 20 puntos.\n",
    "\n",
    "b) Tres subclases con tipos diferentes de vehiculos (Ejemplo: Barco, bicicleta y automovil) <b> <font color= #0000FF> <i> 20 puntos.\n",
    "\n",
    "c) Cada subclase contendrá un método llamado \"desplazamiento\" el cuál imprimirá en pantalla una leyenda explicando como se deplaza (Ejemplo: \"Yo me desplazo en el agua\", \"Yo me desplazo en dos llantas\") <b> <font color= #0000FF> <i> 20 puntos.\n",
    "\n",
    "d) Crear un objeto de cada tipo de vehículo <b> <font color= #0000FF> <i> 20 puntos.\n",
    "\n",
    "e) Imprimir en pantalla la leyenda que explica como es que se desplaza <b> <font color= #0000FF> <i> 20 puntos."
   ]
  }
 ],
 "metadata": {
  "colab": {
   "provenance": []
  },
  "kernelspec": {
   "display_name": "Python 3 (ipykernel)",
   "language": "python",
   "name": "python3"
  },
  "language_info": {
   "codemirror_mode": {
    "name": "ipython",
    "version": 3
   },
   "file_extension": ".py",
   "mimetype": "text/x-python",
   "name": "python",
   "nbconvert_exporter": "python",
   "pygments_lexer": "ipython3",
   "version": "3.10.9"
  }
 },
 "nbformat": 4,
 "nbformat_minor": 5
}
