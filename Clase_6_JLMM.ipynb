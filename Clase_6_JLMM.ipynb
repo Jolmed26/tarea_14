{
 "cells": [
  {
   "cell_type": "markdown",
   "id": "7881255e",
   "metadata": {},
   "source": [
    "<b> <i> Sin lanzar una excepción"
   ]
  },
  {
   "cell_type": "code",
   "execution_count": 2,
   "id": "200d3850",
   "metadata": {},
   "outputs": [
    {
     "name": "stdout",
     "output_type": "stream",
     "text": [
      "El valor de x debe ser numérico\n",
      "Seguimos adelante con la ejecución del programa\n"
     ]
    }
   ],
   "source": [
    "x=\"Hole\"\n",
    "\n",
    "if not type(x) is int:\n",
    "    print(\"El valor de x debe ser numérico\")\n",
    "    \n",
    "print(\"Seguimos adelante con la ejecución del programa\")"
   ]
  },
  {
   "cell_type": "markdown",
   "id": "6afa1a37",
   "metadata": {},
   "source": [
    "<b> <i> Lanzando una excepción"
   ]
  },
  {
   "cell_type": "code",
   "execution_count": 3,
   "id": "4d637f6c",
   "metadata": {},
   "outputs": [
    {
     "ename": "TypeError",
     "evalue": "El valor de x debe ser numérico",
     "output_type": "error",
     "traceback": [
      "\u001b[1;31m---------------------------------------------------------------------------\u001b[0m",
      "\u001b[1;31mTypeError\u001b[0m                                 Traceback (most recent call last)",
      "Cell \u001b[1;32mIn[3], line 4\u001b[0m\n\u001b[0;32m      1\u001b[0m x\u001b[38;5;241m=\u001b[39m\u001b[38;5;124m\"\u001b[39m\u001b[38;5;124mHola\u001b[39m\u001b[38;5;124m\"\u001b[39m\n\u001b[0;32m      3\u001b[0m \u001b[38;5;28;01mif\u001b[39;00m \u001b[38;5;129;01mnot\u001b[39;00m \u001b[38;5;28mtype\u001b[39m(x) \u001b[38;5;129;01mis\u001b[39;00m \u001b[38;5;28mint\u001b[39m:\n\u001b[1;32m----> 4\u001b[0m     \u001b[38;5;28;01mraise\u001b[39;00m \u001b[38;5;167;01mTypeError\u001b[39;00m(\u001b[38;5;124m\"\u001b[39m\u001b[38;5;124mEl valor de x debe ser numérico\u001b[39m\u001b[38;5;124m\"\u001b[39m)\n\u001b[0;32m      6\u001b[0m \u001b[38;5;28mprint\u001b[39m(\u001b[38;5;124m\"\u001b[39m\u001b[38;5;124mSeguimos adlante con la ejecución del programa\u001b[39m\u001b[38;5;124m\"\u001b[39m)\n",
      "\u001b[1;31mTypeError\u001b[0m: El valor de x debe ser numérico"
     ]
    }
   ],
   "source": [
    "x=\"Hola\"\n",
    "\n",
    "if not type(x) is int:\n",
    "    raise TypeError(\"El valor de x debe ser numérico\")\n",
    "    \n",
    "print(\"Seguimos adlante con la ejecución del programa\")"
   ]
  },
  {
   "cell_type": "markdown",
   "id": "cc1c3e94",
   "metadata": {},
   "source": [
    "Try except para <b> <i> envolver el erro"
   ]
  },
  {
   "cell_type": "code",
   "execution_count": 4,
   "id": "f74d99ea",
   "metadata": {},
   "outputs": [
    {
     "name": "stdout",
     "output_type": "stream",
     "text": [
      "Introduce un valor:\n",
      "El valor de x debe ser numérico\n",
      "Seguimos adelante con la ejecución del programa\n"
     ]
    }
   ],
   "source": [
    "try:\n",
    "    \n",
    "    x= input(\"Introduce un valor:\")\n",
    "    \n",
    "    if not type(x) is int:\n",
    "        raise TypeError(\"El valor de x debe ser numérico\")\n",
    "        \n",
    "except TypeError as e:\n",
    "    print(e)\n",
    "else:\n",
    "    print(\"El tipo de valor de x es correcto\")\n",
    "    \n",
    "print(\"Seguimos adelante con la ejecución del programa\")"
   ]
  },
  {
   "cell_type": "markdown",
   "id": "0205d860",
   "metadata": {},
   "source": [
    "<b> <i> Sin lanzar una excepción"
   ]
  },
  {
   "cell_type": "code",
   "execution_count": 5,
   "id": "4b2ee987",
   "metadata": {},
   "outputs": [
    {
     "name": "stdout",
     "output_type": "stream",
     "text": [
      "Ingresa tu fecha de nacimiento utilizando el formato yyyy-mm-dd: \n"
     ]
    },
    {
     "ename": "ValueError",
     "evalue": "time data '' does not match format '%Y-%m-%d'",
     "output_type": "error",
     "traceback": [
      "\u001b[1;31m---------------------------------------------------------------------------\u001b[0m",
      "\u001b[1;31mValueError\u001b[0m                                Traceback (most recent call last)",
      "Cell \u001b[1;32mIn[5], line 6\u001b[0m\n\u001b[0;32m      3\u001b[0m Fecha_de_hoy \u001b[38;5;241m=\u001b[39m datetime\u001b[38;5;241m.\u001b[39mnow()\n\u001b[0;32m      5\u001b[0m fecha_nacim \u001b[38;5;241m=\u001b[39m \u001b[38;5;28minput\u001b[39m(\u001b[38;5;124m\"\u001b[39m\u001b[38;5;124mIngresa tu fecha de nacimiento utilizando el formato yyyy-mm-dd: \u001b[39m\u001b[38;5;124m\"\u001b[39m)\n\u001b[1;32m----> 6\u001b[0m Fecha_proporcionada \u001b[38;5;241m=\u001b[39m \u001b[43mdatetime\u001b[49m\u001b[38;5;241;43m.\u001b[39;49m\u001b[43mstrptime\u001b[49m\u001b[43m(\u001b[49m\u001b[43mfecha_nacim\u001b[49m\u001b[43m,\u001b[49m\u001b[43m \u001b[49m\u001b[38;5;124;43m'\u001b[39;49m\u001b[38;5;124;43m%\u001b[39;49m\u001b[38;5;124;43mY-\u001b[39;49m\u001b[38;5;124;43m%\u001b[39;49m\u001b[38;5;124;43mm-\u001b[39;49m\u001b[38;5;132;43;01m%d\u001b[39;49;00m\u001b[38;5;124;43m'\u001b[39;49m\u001b[43m)\u001b[49m \u001b[38;5;66;03m#datetime.strprtime convierte un string en fecha\u001b[39;00m\n\u001b[0;32m      8\u001b[0m \u001b[38;5;28;01mif\u001b[39;00m (Fecha_proporcionada\u001b[38;5;241m.\u001b[39mdate() \u001b[38;5;241m>\u001b[39m\u001b[38;5;241m=\u001b[39m Fecha_de_hoy\u001b[38;5;241m.\u001b[39mdate()):\n\u001b[0;32m      9\u001b[0m     \u001b[38;5;28mprint\u001b[39m(\u001b[38;5;124m\"\u001b[39m\u001b[38;5;124mLa fecha proporcionada debe ser anterior al dia de hoy\u001b[39m\u001b[38;5;124m\"\u001b[39m)\n",
      "File \u001b[1;32m~\\anaconda32\\lib\\_strptime.py:568\u001b[0m, in \u001b[0;36m_strptime_datetime\u001b[1;34m(cls, data_string, format)\u001b[0m\n\u001b[0;32m    565\u001b[0m \u001b[38;5;28;01mdef\u001b[39;00m \u001b[38;5;21m_strptime_datetime\u001b[39m(\u001b[38;5;28mcls\u001b[39m, data_string, \u001b[38;5;28mformat\u001b[39m\u001b[38;5;241m=\u001b[39m\u001b[38;5;124m\"\u001b[39m\u001b[38;5;132;01m%a\u001b[39;00m\u001b[38;5;124m \u001b[39m\u001b[38;5;124m%\u001b[39m\u001b[38;5;124mb \u001b[39m\u001b[38;5;132;01m%d\u001b[39;00m\u001b[38;5;124m \u001b[39m\u001b[38;5;124m%\u001b[39m\u001b[38;5;124mH:\u001b[39m\u001b[38;5;124m%\u001b[39m\u001b[38;5;124mM:\u001b[39m\u001b[38;5;124m%\u001b[39m\u001b[38;5;124mS \u001b[39m\u001b[38;5;124m%\u001b[39m\u001b[38;5;124mY\u001b[39m\u001b[38;5;124m\"\u001b[39m):\n\u001b[0;32m    566\u001b[0m     \u001b[38;5;124;03m\"\"\"Return a class cls instance based on the input string and the\u001b[39;00m\n\u001b[0;32m    567\u001b[0m \u001b[38;5;124;03m    format string.\"\"\"\u001b[39;00m\n\u001b[1;32m--> 568\u001b[0m     tt, fraction, gmtoff_fraction \u001b[38;5;241m=\u001b[39m \u001b[43m_strptime\u001b[49m\u001b[43m(\u001b[49m\u001b[43mdata_string\u001b[49m\u001b[43m,\u001b[49m\u001b[43m \u001b[49m\u001b[38;5;28;43mformat\u001b[39;49m\u001b[43m)\u001b[49m\n\u001b[0;32m    569\u001b[0m     tzname, gmtoff \u001b[38;5;241m=\u001b[39m tt[\u001b[38;5;241m-\u001b[39m\u001b[38;5;241m2\u001b[39m:]\n\u001b[0;32m    570\u001b[0m     args \u001b[38;5;241m=\u001b[39m tt[:\u001b[38;5;241m6\u001b[39m] \u001b[38;5;241m+\u001b[39m (fraction,)\n",
      "File \u001b[1;32m~\\anaconda32\\lib\\_strptime.py:349\u001b[0m, in \u001b[0;36m_strptime\u001b[1;34m(data_string, format)\u001b[0m\n\u001b[0;32m    347\u001b[0m found \u001b[38;5;241m=\u001b[39m format_regex\u001b[38;5;241m.\u001b[39mmatch(data_string)\n\u001b[0;32m    348\u001b[0m \u001b[38;5;28;01mif\u001b[39;00m \u001b[38;5;129;01mnot\u001b[39;00m found:\n\u001b[1;32m--> 349\u001b[0m     \u001b[38;5;28;01mraise\u001b[39;00m \u001b[38;5;167;01mValueError\u001b[39;00m(\u001b[38;5;124m\"\u001b[39m\u001b[38;5;124mtime data \u001b[39m\u001b[38;5;132;01m%r\u001b[39;00m\u001b[38;5;124m does not match format \u001b[39m\u001b[38;5;132;01m%r\u001b[39;00m\u001b[38;5;124m\"\u001b[39m \u001b[38;5;241m%\u001b[39m\n\u001b[0;32m    350\u001b[0m                      (data_string, \u001b[38;5;28mformat\u001b[39m))\n\u001b[0;32m    351\u001b[0m \u001b[38;5;28;01mif\u001b[39;00m \u001b[38;5;28mlen\u001b[39m(data_string) \u001b[38;5;241m!=\u001b[39m found\u001b[38;5;241m.\u001b[39mend():\n\u001b[0;32m    352\u001b[0m     \u001b[38;5;28;01mraise\u001b[39;00m \u001b[38;5;167;01mValueError\u001b[39;00m(\u001b[38;5;124m\"\u001b[39m\u001b[38;5;124munconverted data remains: \u001b[39m\u001b[38;5;132;01m%s\u001b[39;00m\u001b[38;5;124m\"\u001b[39m \u001b[38;5;241m%\u001b[39m\n\u001b[0;32m    353\u001b[0m                       data_string[found\u001b[38;5;241m.\u001b[39mend():])\n",
      "\u001b[1;31mValueError\u001b[0m: time data '' does not match format '%Y-%m-%d'"
     ]
    }
   ],
   "source": [
    "from datetime import datetime\n",
    "\n",
    "Fecha_de_hoy = datetime.now()\n",
    "\n",
    "fecha_nacim = input(\"Ingresa tu fecha de nacimiento utilizando el formato yyyy-mm-dd: \")\n",
    "Fecha_proporcionada = datetime.strptime(fecha_nacim, '%Y-%m-%d') #datetime.strprtime convierte un string en fecha\n",
    "\n",
    "if (Fecha_proporcionada.date() >= Fecha_de_hoy.date()):\n",
    "    print(\"La fecha proporcionada debe ser anterior al dia de hoy\")\n",
    "    \n",
    "else:\n",
    "    print(\"Muy bien, puedes seguir adelante con el programa\")\n",
    "    \n",
    "print(\"Seguimos adelante con la ejecución del programa\")"
   ]
  },
  {
   "cell_type": "code",
   "execution_count": null,
   "id": "0f1a73cf",
   "metadata": {},
   "outputs": [],
   "source": [
    "from datetime import datetime\n",
    "\n",
    "Fecha_de_hoy = datetime.now()\n",
    "\n",
    "fecha_nacim = input(\"Ingresa tu fecha de nacimiento utilizando el formato yyyy-mm-dd: \")\n",
    "Fecha_proporcionada = datetime.strptime(fecha_nacim, '%Y-%m-%d') #datetime.strprtime convierte un string en fecha\n",
    "\n",
    "if (Fecha_proporcionada.date() >= Fecha_de_hoy.date()):\n",
    "    raise Exception(\"La fecha proporcionada debe ser anterior al dia de hoy\")\n",
    "    \n",
    "else:\n",
    "    print(\"Muy bien, puedes seguir adelante con el programa\")\n",
    "    \n",
    "print(\"Seguimos adelante con la ejecución del programa\")"
   ]
  },
  {
   "cell_type": "markdown",
   "id": "29b22830",
   "metadata": {},
   "source": [
    "## Ejercicio 1"
   ]
  },
  {
   "cell_type": "code",
   "execution_count": 6,
   "id": "f2261dba",
   "metadata": {},
   "outputs": [],
   "source": [
    "lista_1=[1,\"Hola\",4,19,\"Sayulita\",5,21,12,3,38]"
   ]
  },
  {
   "cell_type": "code",
   "execution_count": 8,
   "id": "318d45bc",
   "metadata": {},
   "outputs": [
    {
     "name": "stdout",
     "output_type": "stream",
     "text": [
      "2\n"
     ]
    },
    {
     "ename": "TypeError",
     "evalue": "El elemento no es de tipo numerico",
     "output_type": "error",
     "traceback": [
      "\u001b[1;31m---------------------------------------------------------------------------\u001b[0m",
      "\u001b[1;31mTypeError\u001b[0m                                 Traceback (most recent call last)",
      "Cell \u001b[1;32mIn[8], line 10\u001b[0m\n\u001b[0;32m      7\u001b[0m         \u001b[38;5;28;01melse\u001b[39;00m:\n\u001b[0;32m      8\u001b[0m             \u001b[38;5;28;01mraise\u001b[39;00m \u001b[38;5;167;01mTypeError\u001b[39;00m(\u001b[38;5;124m\"\u001b[39m\u001b[38;5;124mEl elemento no es de tipo numerico\u001b[39m\u001b[38;5;124m\"\u001b[39m)\n\u001b[1;32m---> 10\u001b[0m multi\u001b[38;5;241m=\u001b[39m\u001b[43mmul\u001b[49m\u001b[43m(\u001b[49m\u001b[43mlista_1\u001b[49m\u001b[43m)\u001b[49m\n\u001b[0;32m     12\u001b[0m \u001b[38;5;28;01mfor\u001b[39;00m i \u001b[38;5;129;01min\u001b[39;00m multi:\n\u001b[0;32m     13\u001b[0m     \u001b[38;5;28mprint\u001b[39m(i)\n",
      "Cell \u001b[1;32mIn[8], line 8\u001b[0m, in \u001b[0;36mmul\u001b[1;34m(lista)\u001b[0m\n\u001b[0;32m      5\u001b[0m     \u001b[38;5;28mprint\u001b[39m(i\u001b[38;5;241m*\u001b[39m\u001b[38;5;241m2\u001b[39m)\n\u001b[0;32m      7\u001b[0m \u001b[38;5;28;01melse\u001b[39;00m:\n\u001b[1;32m----> 8\u001b[0m     \u001b[38;5;28;01mraise\u001b[39;00m \u001b[38;5;167;01mTypeError\u001b[39;00m(\u001b[38;5;124m\"\u001b[39m\u001b[38;5;124mEl elemento no es de tipo numerico\u001b[39m\u001b[38;5;124m\"\u001b[39m)\n",
      "\u001b[1;31mTypeError\u001b[0m: El elemento no es de tipo numerico"
     ]
    }
   ],
   "source": [
    "def mul(lista):\n",
    "    for i in lista_1:\n",
    "        \n",
    "        if type(i) == int:\n",
    "            print(i*2)\n",
    "            \n",
    "        else:\n",
    "            raise TypeError(\"El elemento no es de tipo numerico\")\n",
    "\n",
    "multi=mul(lista_1)\n",
    "\n",
    "for i in multi:\n",
    "    print(i)\n",
    "            "
   ]
  },
  {
   "cell_type": "markdown",
   "id": "5fadbb6c",
   "metadata": {},
   "source": [
    "## Ejercicio 2"
   ]
  },
  {
   "cell_type": "code",
   "execution_count": 9,
   "id": "2627a23d",
   "metadata": {},
   "outputs": [
    {
     "name": "stdout",
     "output_type": "stream",
     "text": [
      "2\n",
      "El elemento no es de tipo numérico\n",
      "Fin del proceso\n"
     ]
    }
   ],
   "source": [
    "try:\n",
    "    def mul(lista):\n",
    "        for i in lista_1:\n",
    "            if type(i) == int:\n",
    "                print(i*2)\n",
    "            else: \n",
    "                raise TypeError(\"El elemento no es de tipo numérico\")\n",
    "\n",
    "    multi=mul(lista_1)\n",
    "    \n",
    "    for i in multi:\n",
    "        print(i)\n",
    "    \n",
    "except TypeError as e:\n",
    "        print(e)\n",
    "        \n",
    "print(\"Fin del proceso\")\n"
   ]
  },
  {
   "cell_type": "markdown",
   "id": "b9cae964",
   "metadata": {},
   "source": [
    "<b> <i> Creamos una Superclase"
   ]
  },
  {
   "cell_type": "code",
   "execution_count": 10,
   "id": "ca2e8df6",
   "metadata": {},
   "outputs": [],
   "source": [
    "class Animales():\n",
    "    \n",
    "    def __init__(self, peso, color, tamaño): #Aquí van las propiedades del estado inicial. Este es un constructor\n",
    "        \n",
    "        #Propiedades\n",
    "        self.peso=peso\n",
    "        self.color=color\n",
    "        self.tamaño=tamaño\n",
    "        \n",
    "    #Compartimientos\n",
    "    \n",
    "    #Metodo dormir\n",
    "    def dormir(self, dormir):\n",
    "        self.dormido = dormir #Se coloca self y un punto antes del estado \"dormido\"\n",
    "        \n",
    "        if(self.dormido):\n",
    "            return print(f\"{self.nombre} está dormid@\")\n",
    "        else:\n",
    "            return print(f\"{self.nombre} está despiert@\")"
   ]
  },
  {
   "cell_type": "markdown",
   "id": "510af164",
   "metadata": {},
   "source": [
    "<b> <i> Creamos Subclases con un método llamado nacimiento"
   ]
  },
  {
   "cell_type": "code",
   "execution_count": 11,
   "id": "69d5c62f",
   "metadata": {},
   "outputs": [],
   "source": [
    "class Viviparo(Animales):\n",
    "    \n",
    "    #Metodo nacimiento\n",
    "    def nacimiento(self):\n",
    "        print(\"Me desarrollo en el vientre de mi madre\")\n",
    "\n",
    "class Oviparo(Animales):\n",
    "    \n",
    "    #Metodo nacimiento\n",
    "    def nacimiento(self):\n",
    "        print(\"me desarrollo en un huevo\")\n",
    "        \n",
    "class Ovoviviparo(Animales):\n",
    "    \n",
    "    #Metodo nacimiento\n",
    "    def nacimiento(self):\n",
    "        print(\"comienzo a desarrollarme en el vientre de mi madre y termino mi desarrollo fuera del mismo\")"
   ]
  },
  {
   "cell_type": "markdown",
   "id": "cffe9f65",
   "metadata": {},
   "source": [
    "<b> <i> Creamos una función que llame al método nacimiento para todas las clases"
   ]
  },
  {
   "cell_type": "code",
   "execution_count": 12,
   "id": "fafa30e9",
   "metadata": {},
   "outputs": [],
   "source": [
    "def nacimientos_varios(animal):\n",
    "    animal.nacimiento()"
   ]
  },
  {
   "cell_type": "markdown",
   "id": "d2499bfc",
   "metadata": {},
   "source": [
    "<b> Creamos objetos pertenecientes a la clase animales que tengan diferente forma de nacimiento, para comprender el término <font color= #990000> <i> polimorfismo"
   ]
  },
  {
   "cell_type": "code",
   "execution_count": 13,
   "id": "0812be09",
   "metadata": {},
   "outputs": [],
   "source": [
    "changuito = Viviparo(3, \"negro\", 50)\n",
    "\n",
    "tortuga = Oviparo(0.5, \"café\", 10)\n",
    "\n",
    "canguro = Ovoviviparo(37, \"beige\", 95)"
   ]
  },
  {
   "cell_type": "markdown",
   "id": "6d4bcedd",
   "metadata": {},
   "source": [
    "<b> Pedimos que nos muestre el tipo de nacimiento de cada uno de los objetos"
   ]
  },
  {
   "cell_type": "code",
   "execution_count": 14,
   "id": "6f68fd4b",
   "metadata": {},
   "outputs": [
    {
     "name": "stdout",
     "output_type": "stream",
     "text": [
      "Yo soy un changuito, peso 3 kilos, soy de color negro, mido 50 centímetros y\n",
      "Me desarrollo en el vientre de mi madre\n"
     ]
    }
   ],
   "source": [
    "peso=changuito.peso\n",
    "color=changuito.color\n",
    "tamaño=changuito.tamaño\n",
    "\n",
    "print(f\"Yo soy un changuito, peso {peso} kilos, soy de color {color}, mido {tamaño} centímetros y\")\n",
    "nacimientos_varios(changuito)"
   ]
  },
  {
   "cell_type": "code",
   "execution_count": 15,
   "id": "72af1dbc",
   "metadata": {},
   "outputs": [
    {
     "name": "stdout",
     "output_type": "stream",
     "text": [
      "Yo soy una tortuga, peso 0.5 kilos, soy de color café, mido 10 centímetros y\n",
      "me desarrollo en un huevo\n"
     ]
    }
   ],
   "source": [
    "peso=tortuga.peso\n",
    "color=tortuga.color\n",
    "tamaño=tortuga.tamaño\n",
    "\n",
    "print(f\"Yo soy una tortuga, peso {peso} kilos, soy de color {color}, mido {tamaño} centímetros y\")\n",
    "nacimientos_varios(tortuga)"
   ]
  },
  {
   "cell_type": "code",
   "execution_count": 16,
   "id": "5522c004",
   "metadata": {},
   "outputs": [
    {
     "name": "stdout",
     "output_type": "stream",
     "text": [
      "Yo soy un canguro, peso 37 kilos, soy de color beige, mido 95 centímetros y\n",
      "comienzo a desarrollarme en el vientre de mi madre y termino mi desarrollo fuera del mismo\n"
     ]
    }
   ],
   "source": [
    "peso=canguro.peso\n",
    "color=canguro.color\n",
    "tamaño=canguro.tamaño\n",
    "\n",
    "print(f\"Yo soy un canguro, peso {peso} kilos, soy de color {color}, mido {tamaño} centímetros y\")\n",
    "\n",
    "nacimientos_varios(canguro)"
   ]
  },
  {
   "cell_type": "markdown",
   "id": "a7bbdc8b",
   "metadata": {},
   "source": [
    "## <font color= #0000FF> <i> Conjuntos en Python"
   ]
  },
  {
   "cell_type": "markdown",
   "id": "740eff82",
   "metadata": {},
   "source": [
    "### <font color= #33691e> <i> Formas de Creación de conjuntos"
   ]
  },
  {
   "cell_type": "markdown",
   "id": "ba8b5550",
   "metadata": {},
   "source": [
    "#### <b> <font color= #990000 > <i> Utilizando llaves"
   ]
  },
  {
   "cell_type": "code",
   "execution_count": 17,
   "id": "a6b21723",
   "metadata": {},
   "outputs": [
    {
     "name": "stdout",
     "output_type": "stream",
     "text": [
      "{1, 2, 4}\n"
     ]
    },
    {
     "data": {
      "text/plain": [
       "set"
      ]
     },
     "execution_count": 17,
     "metadata": {},
     "output_type": "execute_result"
    }
   ],
   "source": [
    "c1={1,2,4}\n",
    "\n",
    "print(c1)\n",
    "\n",
    "type(c1)"
   ]
  },
  {
   "cell_type": "markdown",
   "id": "9ccf972e",
   "metadata": {},
   "source": [
    "#### <b> <font color= #990000 > <i> Utilizando el comando set y una lista"
   ]
  },
  {
   "cell_type": "code",
   "execution_count": 18,
   "id": "d358985e",
   "metadata": {},
   "outputs": [
    {
     "name": "stdout",
     "output_type": "stream",
     "text": [
      "{1, 'Rocio', 5}\n"
     ]
    },
    {
     "data": {
      "text/plain": [
       "set"
      ]
     },
     "execution_count": 18,
     "metadata": {},
     "output_type": "execute_result"
    }
   ],
   "source": [
    "c2=set([1,\"Rocio\",5])\n",
    "\n",
    "print(c2)\n",
    "\n",
    "type(c2)"
   ]
  },
  {
   "cell_type": "markdown",
   "id": "96b163d4",
   "metadata": {},
   "source": [
    "#### <b> <font color= #990000 > <i> Utilizando el constructor set() para hacer un conjunto e ir agregando elementos"
   ]
  },
  {
   "cell_type": "code",
   "execution_count": 19,
   "id": "c091e2f8",
   "metadata": {},
   "outputs": [
    {
     "name": "stdout",
     "output_type": "stream",
     "text": [
      "set()\n"
     ]
    },
    {
     "data": {
      "text/plain": [
       "set"
      ]
     },
     "execution_count": 19,
     "metadata": {},
     "output_type": "execute_result"
    }
   ],
   "source": [
    "c3=set()\n",
    "print(c3)\n",
    "type(c3)"
   ]
  },
  {
   "cell_type": "code",
   "execution_count": 20,
   "id": "21e16ac3",
   "metadata": {},
   "outputs": [
    {
     "data": {
      "text/plain": [
       "{0, 5}"
      ]
     },
     "execution_count": 20,
     "metadata": {},
     "output_type": "execute_result"
    }
   ],
   "source": [
    "c3=set()\n",
    "\n",
    "c3.add(0)\n",
    "c3.add(5)\n",
    "\n",
    "c3"
   ]
  },
  {
   "cell_type": "code",
   "execution_count": 21,
   "id": "c0d21219",
   "metadata": {},
   "outputs": [
    {
     "name": "stdout",
     "output_type": "stream",
     "text": [
      "\n",
      "Welcome to Python 3.10's help utility!\n",
      "\n",
      "If this is your first time using Python, you should definitely check out\n",
      "the tutorial on the internet at https://docs.python.org/3.10/tutorial/.\n",
      "\n",
      "Enter the name of any module, keyword, or topic to get help on writing\n",
      "Python programs and using Python modules.  To quit this help utility and\n",
      "return to the interpreter, just type \"quit\".\n",
      "\n",
      "To get a list of available modules, keywords, symbols, or topics, type\n",
      "\"modules\", \"keywords\", \"symbols\", or \"topics\".  Each module also comes\n",
      "with a one-line summary of what it does; to list the modules whose name\n",
      "or summary contain a given string such as \"spam\", type \"modules spam\".\n",
      "\n",
      "help> \n",
      "\n",
      "You are now leaving help and returning to the Python interpreter.\n",
      "If you want to ask for help on a particular object directly from the\n",
      "interpreter, you can type \"help(object)\".  Executing \"help('string')\"\n",
      "has the same effect as typing a particular string at the help> prompt.\n"
     ]
    }
   ],
   "source": [
    "help()"
   ]
  },
  {
   "cell_type": "markdown",
   "id": "eaf86e23",
   "metadata": {},
   "source": [
    "### <font color= #33691e> <i> Quitando elementos a un conjunto"
   ]
  },
  {
   "cell_type": "code",
   "execution_count": 22,
   "id": "2e1c8a6b",
   "metadata": {},
   "outputs": [
    {
     "data": {
      "text/plain": [
       "{0}"
      ]
     },
     "execution_count": 22,
     "metadata": {},
     "output_type": "execute_result"
    }
   ],
   "source": [
    "c3.discard(5)\n",
    "\n",
    "c3"
   ]
  },
  {
   "cell_type": "markdown",
   "id": "f333c7f8",
   "metadata": {},
   "source": [
    "### <font color= #33691e> <i> Copiando un conjunto"
   ]
  },
  {
   "cell_type": "markdown",
   "id": "bc5fd848",
   "metadata": {},
   "source": [
    "<b> Método incorrecto"
   ]
  },
  {
   "cell_type": "code",
   "execution_count": 23,
   "id": "83c39212",
   "metadata": {},
   "outputs": [
    {
     "data": {
      "text/plain": [
       "{0}"
      ]
     },
     "execution_count": 23,
     "metadata": {},
     "output_type": "execute_result"
    }
   ],
   "source": [
    "c4=c3 #Esto es incorrecto\n",
    "c4"
   ]
  },
  {
   "cell_type": "code",
   "execution_count": 24,
   "id": "b5246fec",
   "metadata": {},
   "outputs": [
    {
     "data": {
      "text/plain": [
       "{0, 7}"
      ]
     },
     "execution_count": 24,
     "metadata": {},
     "output_type": "execute_result"
    }
   ],
   "source": [
    "c4.add(7)\n",
    "c4"
   ]
  },
  {
   "cell_type": "code",
   "execution_count": 25,
   "id": "cfea9869",
   "metadata": {},
   "outputs": [
    {
     "data": {
      "text/plain": [
       "{0, 7}"
      ]
     },
     "execution_count": 25,
     "metadata": {},
     "output_type": "execute_result"
    }
   ],
   "source": [
    "c3"
   ]
  },
  {
   "cell_type": "markdown",
   "id": "30a83f2d",
   "metadata": {},
   "source": [
    "<b> Método correcto"
   ]
  },
  {
   "cell_type": "code",
   "execution_count": 26,
   "id": "9d23f063",
   "metadata": {},
   "outputs": [
    {
     "data": {
      "text/plain": [
       "{0, 7}"
      ]
     },
     "execution_count": 26,
     "metadata": {},
     "output_type": "execute_result"
    }
   ],
   "source": [
    "c4=c3.copy()\n",
    "c4"
   ]
  },
  {
   "cell_type": "code",
   "execution_count": 27,
   "id": "82524a80",
   "metadata": {},
   "outputs": [
    {
     "data": {
      "text/plain": [
       "{0, 7, 9}"
      ]
     },
     "execution_count": 27,
     "metadata": {},
     "output_type": "execute_result"
    }
   ],
   "source": [
    "c4.add(9)\n",
    "c4"
   ]
  },
  {
   "cell_type": "code",
   "execution_count": 28,
   "id": "d0ff4ea4",
   "metadata": {},
   "outputs": [
    {
     "data": {
      "text/plain": [
       "{0, 7}"
      ]
     },
     "execution_count": 28,
     "metadata": {},
     "output_type": "execute_result"
    }
   ],
   "source": [
    "c3"
   ]
  },
  {
   "cell_type": "markdown",
   "id": "cfece778",
   "metadata": {},
   "source": [
    "### <font color= #33691e> <i> Eliminando todos los elementos de un conjunto"
   ]
  },
  {
   "cell_type": "code",
   "execution_count": 29,
   "id": "066ef358",
   "metadata": {},
   "outputs": [
    {
     "data": {
      "text/plain": [
       "set()"
      ]
     },
     "execution_count": 29,
     "metadata": {},
     "output_type": "execute_result"
    }
   ],
   "source": [
    "c3.clear()\n",
    "c3"
   ]
  },
  {
   "cell_type": "markdown",
   "id": "fb4beff8",
   "metadata": {},
   "source": [
    "### <font color= #33691e> <i> Para saber si dos conjuntos son disjuntos"
   ]
  },
  {
   "cell_type": "code",
   "execution_count": 30,
   "id": "b28d3074",
   "metadata": {},
   "outputs": [
    {
     "data": {
      "text/plain": [
       "True"
      ]
     },
     "execution_count": 30,
     "metadata": {},
     "output_type": "execute_result"
    }
   ],
   "source": [
    "A = set(['Alberto','Berenice', 'Hugo', 'Zoe'])\n",
    "B = set(['Carmen', 'Alberto', 'Héctor',])\n",
    "C = set(['Cynthia', 'Marisela', 'Lucía', 'Alejandro'])\n",
    "\n",
    "A.isdisjoint(C)"
   ]
  },
  {
   "cell_type": "code",
   "execution_count": 31,
   "id": "1f9016dd",
   "metadata": {},
   "outputs": [
    {
     "data": {
      "text/plain": [
       "False"
      ]
     },
     "execution_count": 31,
     "metadata": {},
     "output_type": "execute_result"
    }
   ],
   "source": [
    "A.isdisjoint(B) #tienen en común Alberto"
   ]
  },
  {
   "cell_type": "markdown",
   "id": "60dc732d",
   "metadata": {},
   "source": [
    "### <font color= #33691e> <i> Intersección de conjuntos"
   ]
  },
  {
   "cell_type": "code",
   "execution_count": 32,
   "id": "bdbeb764",
   "metadata": {},
   "outputs": [
    {
     "data": {
      "text/plain": [
       "{'Alberto'}"
      ]
     },
     "execution_count": 32,
     "metadata": {},
     "output_type": "execute_result"
    }
   ],
   "source": [
    "A.intersection(B)"
   ]
  },
  {
   "cell_type": "code",
   "execution_count": 33,
   "id": "6f0b26b2",
   "metadata": {},
   "outputs": [
    {
     "data": {
      "text/plain": [
       "{'Berenice', 'Carmen', 'Hugo', 'Héctor', 'Zoe'}"
      ]
     },
     "execution_count": 33,
     "metadata": {},
     "output_type": "execute_result"
    }
   ],
   "source": [
    "A.symmetric_difference(B)"
   ]
  },
  {
   "cell_type": "markdown",
   "id": "d4a71d58",
   "metadata": {},
   "source": [
    "### <font color= #33691e> <i> Para saber si un conjunto es subconjunto de otro"
   ]
  },
  {
   "cell_type": "code",
   "execution_count": 34,
   "id": "c1ffba92",
   "metadata": {},
   "outputs": [
    {
     "data": {
      "text/plain": [
       "True"
      ]
     },
     "execution_count": 34,
     "metadata": {},
     "output_type": "execute_result"
    }
   ],
   "source": [
    "D = set(['Alberto', 'Carmen'])\n",
    "D.issubset(B)"
   ]
  },
  {
   "cell_type": "code",
   "execution_count": 35,
   "id": "01983fd4",
   "metadata": {},
   "outputs": [
    {
     "data": {
      "text/plain": [
       "False"
      ]
     },
     "execution_count": 35,
     "metadata": {},
     "output_type": "execute_result"
    }
   ],
   "source": [
    "D.issubset(A)"
   ]
  },
  {
   "cell_type": "code",
   "execution_count": 36,
   "id": "f290963c",
   "metadata": {},
   "outputs": [
    {
     "data": {
      "text/plain": [
       "True"
      ]
     },
     "execution_count": 36,
     "metadata": {},
     "output_type": "execute_result"
    }
   ],
   "source": [
    "B.issuperset(D)"
   ]
  },
  {
   "cell_type": "markdown",
   "id": "4c2d48a8",
   "metadata": {},
   "source": [
    "### <font color= #33691e> <i> Unión de conjuntos"
   ]
  },
  {
   "cell_type": "code",
   "execution_count": 48,
   "id": "3276000d",
   "metadata": {},
   "outputs": [
    {
     "data": {
      "text/plain": [
       "{'Alberto', 'Berenice', 'Carmen', 'Hugo', 'Héctor', 'Zoe'}"
      ]
     },
     "execution_count": 48,
     "metadata": {},
     "output_type": "execute_result"
    }
   ],
   "source": [
    "A.union(B)"
   ]
  },
  {
   "cell_type": "code",
   "execution_count": 38,
   "id": "15cb5b03",
   "metadata": {},
   "outputs": [
    {
     "data": {
      "text/plain": [
       "{'Alberto', 'Berenice', 'Hugo', 'Zoe'}"
      ]
     },
     "execution_count": 38,
     "metadata": {},
     "output_type": "execute_result"
    }
   ],
   "source": [
    "A"
   ]
  },
  {
   "cell_type": "code",
   "execution_count": 39,
   "id": "63343035",
   "metadata": {},
   "outputs": [
    {
     "data": {
      "text/plain": [
       "{'Alberto', 'Carmen', 'Héctor'}"
      ]
     },
     "execution_count": 39,
     "metadata": {},
     "output_type": "execute_result"
    }
   ],
   "source": [
    "B"
   ]
  },
  {
   "cell_type": "code",
   "execution_count": 40,
   "id": "cbcf6a00",
   "metadata": {},
   "outputs": [
    {
     "data": {
      "text/plain": [
       "{'Alberto', 'Berenice', 'Carmen', 'Hugo', 'Héctor', 'Zoe'}"
      ]
     },
     "execution_count": 40,
     "metadata": {},
     "output_type": "execute_result"
    }
   ],
   "source": [
    "A.update(B) #Update sí altera al conjunto A\n",
    "A"
   ]
  },
  {
   "cell_type": "code",
   "execution_count": 41,
   "id": "6eff8085",
   "metadata": {},
   "outputs": [
    {
     "data": {
      "text/plain": [
       "{'Alberto', 'Carmen', 'Héctor'}"
      ]
     },
     "execution_count": 41,
     "metadata": {},
     "output_type": "execute_result"
    }
   ],
   "source": [
    "B"
   ]
  },
  {
   "cell_type": "markdown",
   "id": "a67ae471",
   "metadata": {},
   "source": [
    "### <font color= #33691e> <i> Obteniendo los elementos diferentes entre conjuntos"
   ]
  },
  {
   "cell_type": "code",
   "execution_count": 42,
   "id": "db81bd72",
   "metadata": {},
   "outputs": [
    {
     "data": {
      "text/plain": [
       "{'Héctor'}"
      ]
     },
     "execution_count": 42,
     "metadata": {},
     "output_type": "execute_result"
    }
   ],
   "source": [
    "B.difference(D)"
   ]
  },
  {
   "cell_type": "markdown",
   "id": "79246eca",
   "metadata": {},
   "source": [
    "## Ejercicio 3"
   ]
  },
  {
   "cell_type": "code",
   "execution_count": 54,
   "id": "3b122511",
   "metadata": {},
   "outputs": [
    {
     "name": "stdout",
     "output_type": "stream",
     "text": [
      "{'Ruiz', 'Romero', 'Gonzalez', 'Arredondo'}\n",
      "{'Yara', 'Ilc', 'Ali', 'Pat'}\n",
      "{'Cancer', 'Sagitario', 'Piscis', 'Libra'}\n"
     ]
    },
    {
     "data": {
      "text/plain": [
       "set"
      ]
     },
     "execution_count": 54,
     "metadata": {},
     "output_type": "execute_result"
    }
   ],
   "source": [
    "c_1={\"Gonzalez\", \"Romero\", \"Arredondo\", \"Ruiz\"}\n",
    "c_2={\"Ali\", \"Pat\", \"Ilc\", \"Yara\"}\n",
    "c_3={\"Libra\", \"Sagitario\", \"Cancer\", \"Piscis\"}\n",
    "\n",
    "print(c_1)\n",
    "print(c_2)\n",
    "print(c_3)\n",
    "\n",
    "type(c_1)\n",
    "type(c_2)\n",
    "type(c_3)\n",
    "\n"
   ]
  },
  {
   "cell_type": "code",
   "execution_count": 55,
   "id": "7b263c43",
   "metadata": {},
   "outputs": [
    {
     "data": {
      "text/plain": [
       "True"
      ]
     },
     "execution_count": 55,
     "metadata": {},
     "output_type": "execute_result"
    }
   ],
   "source": [
    "c_1.isdisjoint(c_3)"
   ]
  },
  {
   "cell_type": "code",
   "execution_count": 56,
   "id": "ff8a6e28",
   "metadata": {},
   "outputs": [
    {
     "data": {
      "text/plain": [
       "True"
      ]
     },
     "execution_count": 56,
     "metadata": {},
     "output_type": "execute_result"
    }
   ],
   "source": [
    "c_1.isdisjoint(c_2)"
   ]
  },
  {
   "cell_type": "code",
   "execution_count": 57,
   "id": "948786cd",
   "metadata": {},
   "outputs": [
    {
     "data": {
      "text/plain": [
       "{'Arredondo', 'Gonzalez', 'Romero', 'Ruiz'}"
      ]
     },
     "execution_count": 57,
     "metadata": {},
     "output_type": "execute_result"
    }
   ],
   "source": [
    "copia_del_primero=c_1.copy()\n",
    "copia_del_primero"
   ]
  },
  {
   "cell_type": "code",
   "execution_count": 61,
   "id": "f86b202f",
   "metadata": {},
   "outputs": [],
   "source": [
    "c_1.update(c_2)"
   ]
  },
  {
   "cell_type": "code",
   "execution_count": 62,
   "id": "93962072",
   "metadata": {},
   "outputs": [
    {
     "data": {
      "text/plain": [
       "{'Ali', 'Arredondo', 'Gonzalez', 'Ilc', 'Pat', 'Romero', 'Ruiz', 'Yara'}"
      ]
     },
     "execution_count": 62,
     "metadata": {},
     "output_type": "execute_result"
    }
   ],
   "source": [
    "c_1"
   ]
  },
  {
   "cell_type": "code",
   "execution_count": 63,
   "id": "223641cf",
   "metadata": {},
   "outputs": [
    {
     "data": {
      "text/plain": [
       "{'Ali', 'Ilc', 'Pat', 'Yara'}"
      ]
     },
     "execution_count": 63,
     "metadata": {},
     "output_type": "execute_result"
    }
   ],
   "source": [
    "c_2"
   ]
  },
  {
   "cell_type": "code",
   "execution_count": 64,
   "id": "4f764c8b",
   "metadata": {},
   "outputs": [
    {
     "data": {
      "text/plain": [
       "{'Ali', 'Ilc', 'Pat'}"
      ]
     },
     "execution_count": 64,
     "metadata": {},
     "output_type": "execute_result"
    }
   ],
   "source": [
    "c_2.discard('Yara')\n",
    "c_2"
   ]
  },
  {
   "cell_type": "code",
   "execution_count": 67,
   "id": "893180a6",
   "metadata": {},
   "outputs": [
    {
     "data": {
      "text/plain": [
       "{'Ali', 'Ilc', 'Pat'}"
      ]
     },
     "execution_count": 67,
     "metadata": {},
     "output_type": "execute_result"
    }
   ],
   "source": [
    "c_2.intersection(c_1)"
   ]
  },
  {
   "cell_type": "code",
   "execution_count": 69,
   "id": "4a95436d",
   "metadata": {},
   "outputs": [
    {
     "data": {
      "text/plain": [
       "set()"
      ]
     },
     "execution_count": 69,
     "metadata": {},
     "output_type": "execute_result"
    }
   ],
   "source": [
    "c_3.clear()\n",
    "c_3"
   ]
  },
  {
   "cell_type": "markdown",
   "id": "d08c2fd6",
   "metadata": {},
   "source": [
    "## Tarea"
   ]
  },
  {
   "cell_type": "code",
   "execution_count": 72,
   "id": "87c2208d",
   "metadata": {},
   "outputs": [],
   "source": [
    "class Vehiculos():\n",
    "    \n",
    "    def __init__(self, tamaño, velocidad, combustible): #Aquí van las propiedades del estado inicial. Este es un constructor\n",
    "        \n",
    "        #Propiedades\n",
    "        self.tamaño=tamaño\n",
    "        self.velocidad=velocidad\n",
    "        self.combustible=combustible\n",
    "        \n",
    "    #Compartimientos\n",
    "    \n",
    "    #Metodo dormir\n",
    "   # def dormir(self, dormir):\n",
    "  #      self.dormido = dormir #Se coloca self y un punto antes del estado \"dormido\"\n",
    "        \n",
    "   #     if(self.dormido):\n",
    "    #        return print(f\"{self.nombre} está dormid@\")\n",
    "     #   else:\n",
    "      #      return print(f\"{self.nombre} está despiert@\")"
   ]
  },
  {
   "cell_type": "code",
   "execution_count": 75,
   "id": "72e1fafb",
   "metadata": {},
   "outputs": [],
   "source": [
    "class Aviones(Vehiculos):\n",
    "    \n",
    "    #Metodo desplazamiento\n",
    "    def desplazamiento(self):\n",
    "        print(\"Se desplazan por el aire\")\n",
    "\n",
    "class Carros(Vehiculos):\n",
    "    \n",
    "    #Metodo desplazamiento\n",
    "    def desplazamiento(self):\n",
    "        print(\"se desplazan por carreteras y caminos\")\n",
    "        \n",
    "class Trenes(Vehiculos):\n",
    "    \n",
    "    #Metodo desplazamiento\n",
    "    def desplazamiento(self):\n",
    "        print(\"Se desplazan sobre rieles\")"
   ]
  },
  {
   "cell_type": "code",
   "execution_count": 78,
   "id": "f1a9058e",
   "metadata": {},
   "outputs": [],
   "source": [
    "def desplazamientos_varios(Vehiculos):\n",
    "    Vehiculos.desplazamiento()"
   ]
  },
  {
   "cell_type": "code",
   "execution_count": 82,
   "id": "33b59b2f",
   "metadata": {},
   "outputs": [],
   "source": [
    "Boeing = Aviones(30, 850, \"JP-1\")\n",
    "\n",
    "Civic = Carros(4.5, 272, \"Gasolina\")\n",
    "\n",
    "Shinkansen = Trenes(204, 300, \"Electricidad\")"
   ]
  },
  {
   "cell_type": "code",
   "execution_count": 84,
   "id": "f499b638",
   "metadata": {},
   "outputs": [
    {
     "name": "stdout",
     "output_type": "stream",
     "text": [
      "Los Boeing si tinene una extensión de 30 mts, alcanzan una velocidad máxima de 850 kms/h y utilizan como combustible JP-1 y\n",
      "Se desplazan por el aire\n"
     ]
    }
   ],
   "source": [
    "print(f\"Los Boeing tinene una extensión de {Boeing.tamaño} mts, alcanzan una velocidad máxima de {Boeing.velocidad} kms/h y utilizan como combustible {Boeing.combustible} y\")\n",
    "\n",
    "desplazamientos_varios(Boeing)"
   ]
  },
  {
   "cell_type": "code",
   "execution_count": 85,
   "id": "5f5c3414",
   "metadata": {},
   "outputs": [
    {
     "name": "stdout",
     "output_type": "stream",
     "text": [
      "Los Civic tinene una extensión de 4.5 mts, alcanzan una velocidad máxima de 272 kms/h y utilizan como combustible Gasolina y\n",
      "se desplazan por carreteras y caminos\n"
     ]
    }
   ],
   "source": [
    "print(f\"Los Civic tinene una extensión de {Civic.tamaño} mts, alcanzan una velocidad máxima de {Civic.velocidad} kms/h y utilizan como combustible {Civic.combustible} y\")\n",
    "\n",
    "desplazamientos_varios(Civic)"
   ]
  },
  {
   "cell_type": "code",
   "execution_count": 86,
   "id": "ba61b4c0",
   "metadata": {},
   "outputs": [
    {
     "name": "stdout",
     "output_type": "stream",
     "text": [
      "Los Shinkansen tinene una extensión de 204 mts, alcanzan una velocidad máxima de 300 kms/h y utilizan como combustible Electricidad y\n",
      "Se desplazan sobre rieles\n"
     ]
    }
   ],
   "source": [
    "print(f\"Los Shinkansen tinene una extensión de {Shinkansen.tamaño} mts, alcanzan una velocidad máxima de {Shinkansen.velocidad} kms/h y utilizan como combustible {Shinkansen.combustible} y\")\n",
    "\n",
    "desplazamientos_varios(Shinkansen)"
   ]
  }
 ],
 "metadata": {
  "kernelspec": {
   "display_name": "Python 3 (ipykernel)",
   "language": "python",
   "name": "python3"
  },
  "language_info": {
   "codemirror_mode": {
    "name": "ipython",
    "version": 3
   },
   "file_extension": ".py",
   "mimetype": "text/x-python",
   "name": "python",
   "nbconvert_exporter": "python",
   "pygments_lexer": "ipython3",
   "version": "3.10.9"
  }
 },
 "nbformat": 4,
 "nbformat_minor": 5
}
